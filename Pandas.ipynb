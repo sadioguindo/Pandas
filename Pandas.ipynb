{
 "cells": [
  {
   "cell_type": "markdown",
   "metadata": {},
   "source": [
    "# Importation"
   ]
  },
  {
   "cell_type": "code",
   "execution_count": 1,
   "metadata": {},
   "outputs": [],
   "source": [
    "import pandas as pd\n",
    "import numpy as np"
   ]
  },
  {
   "cell_type": "markdown",
   "metadata": {},
   "source": [
    "# Exercice 1"
   ]
  },
  {
   "cell_type": "code",
   "execution_count": 2,
   "metadata": {},
   "outputs": [
    {
     "name": "stdout",
     "output_type": "stream",
     "text": [
      "a    100\n",
      "b    200\n",
      "c    300\n",
      "dtype: int64\n"
     ]
    }
   ],
   "source": [
    "# Create a Pandas Series\n",
    "data = {'a': 100, 'b': 200, 'c': 300}\n",
    "series = pd.Series(data)\n",
    "\n",
    "print(series)"
   ]
  },
  {
   "cell_type": "markdown",
   "metadata": {},
   "source": [
    "# Exercice 2"
   ]
  },
  {
   "cell_type": "code",
   "execution_count": 5,
   "metadata": {},
   "outputs": [
    {
     "name": "stdout",
     "output_type": "stream",
     "text": [
      "the result with the new column\n",
      "   A  B  C   D\n",
      "0  1  2  3  10\n",
      "1  4  5  6  11\n",
      "2  7  8  9  12\n",
      "\n",
      "the result final without column B  \n",
      "   A  C   D\n",
      "0  1  3  10\n",
      "1  4  6  11\n",
      "2  7  9  12\n"
     ]
    }
   ],
   "source": [
    "# Create a DataFrame\n",
    "data = {'A': [1, 4, 7], 'B': [2, 5, 8], 'C': [3, 6, 9]}\n",
    "df = pd.DataFrame(data)\n",
    "\n",
    "# Add a new column D with values [10, 11, 12].\n",
    "df['D'] = [10, 11, 12]\n",
    "\n",
    "print('the result with the new column')\n",
    "print(df)\n",
    "\n",
    "# Drop column B from the DataFrame\n",
    "df = df.drop(columns=['B'])\n",
    "\n",
    "print('\\nthe result final without column B  ')\n",
    "print(df)"
   ]
  },
  {
   "cell_type": "markdown",
   "metadata": {},
   "source": [
    "# Exercice3"
   ]
  },
  {
   "cell_type": "code",
   "execution_count": 9,
   "metadata": {},
   "outputs": [
    {
     "name": "stdout",
     "output_type": "stream",
     "text": [
      "Select column B from the following DataFrame\n",
      "0    2\n",
      "1    5\n",
      "2    8\n",
      "Name: B, dtype: int64\n",
      "\n",
      " Select both columns A and C\n",
      "   A  C\n",
      "0  1  3\n",
      "1  4  6\n",
      "2  7  9\n",
      "\n",
      " Select the row with index 1 using the .loc method\n",
      "A    4\n",
      "B    5\n",
      "C    6\n",
      "Name: 1, dtype: int64\n"
     ]
    }
   ],
   "source": [
    "#Create a DataFrame\n",
    "data = {'A': [1, 4, 7], 'B': [2, 5, 8], 'C': [3, 6, 9]}\n",
    "df = pd.DataFrame(data)\n",
    "\n",
    "print('Select column B from the following DataFrame')\n",
    "print(df['B'])\n",
    "\n",
    "print('\\n Select both columns A and C')\n",
    "print(df[['A', 'C']])\n",
    "\n",
    "print('\\n Select the row with index 1 using the .loc method')\n",
    "print(df.loc[1])"
   ]
  },
  {
   "cell_type": "markdown",
   "metadata": {},
   "source": [
    "# Exercice4"
   ]
  },
  {
   "cell_type": "code",
   "execution_count": 10,
   "metadata": {},
   "outputs": [
    {
     "name": "stdout",
     "output_type": "stream",
     "text": [
      "DataFrame after adding the 'Sum' column:\n",
      "   A  B  C  Sum\n",
      "0  1  2  3    6\n",
      "1  4  5  6   15\n",
      "2  7  8  9   24\n",
      "\n",
      "DataFrame after removal the 'Sum' column:\n",
      "   A  B  C\n",
      "0  1  2  3\n",
      "1  4  5  6\n",
      "2  7  8  9\n",
      "\n",
      "DataFrame after adding the'Random' column:\n",
      "   A  B  C    Random\n",
      "0  1  2  3  0.644939\n",
      "1  4  5  6  0.950249\n",
      "2  7  8  9  0.980718\n"
     ]
    }
   ],
   "source": [
    "# Create a DataFrame\n",
    "data = {'A': [1, 4, 7], 'B': [2, 5, 8], 'C': [3, 6, 9]}\n",
    "df = pd.DataFrame(data)\n",
    "\n",
    "\n",
    "df['Sum'] = df['A'] + df['B'] + df['C']\n",
    "print(\"DataFrame after adding the 'Sum' column:\")\n",
    "print(df)\n",
    "\n",
    "\n",
    "df = df.drop(columns=['Sum'])\n",
    "print(\"\\nDataFrame after removal the 'Sum' column:\")\n",
    "print(df)\n",
    "\n",
    "\n",
    "df['Random'] = np.random.rand(len(df))\n",
    "print(\"\\nDataFrame after adding the'Random' column:\")\n",
    "print(df)"
   ]
  },
  {
   "cell_type": "markdown",
   "metadata": {},
   "source": [
    "# Exercice 5"
   ]
  },
  {
   "cell_type": "code",
   "execution_count": 11,
   "metadata": {},
   "outputs": [
    {
     "name": "stdout",
     "output_type": "stream",
     "text": [
      "Merge with inner join:\n",
      "   key   A   B   C   D\n",
      "0    1  A1  B1  C1  D1\n",
      "1    2  A2  B2  C2  D2\n",
      "2    3  A3  B3  C3  D3\n",
      "\n",
      "Merge with outer join:\n",
      "   key   A   B   C   D\n",
      "0    1  A1  B1  C1  D1\n",
      "1    2  A2  B2  C2  D2\n",
      "2    3  A3  B3  C3  D3\n",
      "\n",
      "Merge with added 'E' column:\n",
      "   key   A   B   C   D   E\n",
      "0    1  A1  B1  C1  D1  E1\n",
      "1    2  A2  B2  C2  D2  E2\n",
      "2    3  A3  B3  C3  D3  E3\n"
     ]
    }
   ],
   "source": [
    "# Create the DataFrames\n",
    "left = pd.DataFrame({'key': [1, 2, 3], 'A': ['A1', 'A2', 'A3'], 'B': ['B1', 'B2', 'B3']})\n",
    "right = pd.DataFrame({'key': [1, 2, 3], 'C': ['C1', 'C2', 'C3'], 'D': ['D1', 'D2', 'D3']})\n",
    "\n",
    "\n",
    "merged = pd.merge(left, right, on='key')\n",
    "print(\"Merge with inner join:\")\n",
    "print(merged)\n",
    "\n",
    "merged_outer = pd.merge(left, right, on='key', how='outer')\n",
    "print(\"\\nMerge with outer join:\")\n",
    "print(merged_outer)\n",
    "\n",
    "right['E'] = ['E1', 'E2', 'E3']\n",
    "\n",
    "merged_with_E = pd.merge(left, right, on='key', how='outer')\n",
    "print(\"\\nMerge with added 'E' column:\")\n",
    "print(merged_with_E)"
   ]
  },
  {
   "cell_type": "markdown",
   "metadata": {},
   "source": [
    "# Exercice 6"
   ]
  },
  {
   "cell_type": "code",
   "execution_count": 12,
   "metadata": {},
   "outputs": [
    {
     "name": "stdout",
     "output_type": "stream",
     "text": [
      "Original DataFrame:\n",
      "     A    B    C\n",
      "0  1.0  NaN  3.0\n",
      "1  NaN  5.0  6.0\n",
      "2  7.0  8.0  NaN \n",
      "\n",
      "DataFrame with NaN replaced by 0:\n",
      "     A    B    C\n",
      "0  1.0  0.0  3.0\n",
      "1  0.0  5.0  6.0\n",
      "2  7.0  8.0  0.0 \n",
      "\n",
      "DataFrame with NaN replaced by the mean of each column:\n",
      "     A    B    C\n",
      "0  1.0  6.5  3.0\n",
      "1  4.0  5.0  6.0\n",
      "2  7.0  8.0  4.5 \n",
      "\n",
      "DataFrame with rows dropped where any value is NaN:\n",
      "Empty DataFrame\n",
      "Columns: [A, B, C]\n",
      "Index: []\n"
     ]
    }
   ],
   "source": [
    "# Create the DataFrame\n",
    "df = pd.DataFrame({\n",
    "    'A': [1.0, np.nan, 7.0],\n",
    "    'B': [np.nan, 5.0, 8.0],\n",
    "    'C': [3.0, 6.0, np.nan]\n",
    "})\n",
    "\n",
    "print(\"Original DataFrame:\")\n",
    "print(df, \"\\n\")\n",
    "\n",
    "df_zeros = df.fillna(0)\n",
    "print(\"DataFrame with NaN replaced by 0:\")\n",
    "print(df_zeros, \"\\n\")\n",
    "\n",
    "df_mean = df.apply(lambda col: col.fillna(col.mean()), axis=0)\n",
    "print(\"DataFrame with NaN replaced by the mean of each column:\")\n",
    "print(df_mean, \"\\n\")\n",
    "\n",
    "df_dropped = df.dropna()\n",
    "print(\"DataFrame with rows dropped where any value is NaN:\")\n",
    "print(df_dropped)"
   ]
  },
  {
   "cell_type": "markdown",
   "metadata": {},
   "source": [
    "# Exercice 7"
   ]
  },
  {
   "cell_type": "code",
   "execution_count": 13,
   "metadata": {},
   "outputs": [
    {
     "name": "stdout",
     "output_type": "stream",
     "text": [
      "Original DataFrame:\n",
      "  Category  Value\n",
      "0        A      1\n",
      "1        B      2\n",
      "2        A      3\n",
      "3        B      4\n",
      "4        A      5\n",
      "5        B      6 \n",
      "\n",
      "Mean of 'Value' by 'Category':\n",
      "Category\n",
      "A    3\n",
      "B    4\n",
      "Name: Value, dtype: int64 \n",
      "\n",
      "Sum of 'Value' by 'Category':\n",
      "Category\n",
      "A     9\n",
      "B    12\n",
      "Name: Value, dtype: int64 \n",
      "\n",
      "Number of entries in each 'Category':\n",
      "Category\n",
      "A    3\n",
      "B    3\n",
      "Name: Value, dtype: int64\n"
     ]
    }
   ],
   "source": [
    "# Create the DataFrame\n",
    "df = pd.DataFrame({\n",
    "    'Category': ['A', 'B', 'A', 'B', 'A', 'B'],\n",
    "    'Value': [1, 2, 3, 4, 5, 6]\n",
    "})\n",
    "\n",
    "print(\"Original DataFrame:\")\n",
    "print(df, \"\\n\")\n",
    "\n",
    "mean_group = df.groupby('Category')['Value'].mean()\n",
    "print(\"Mean of 'Value' by 'Category':\")\n",
    "print(mean_group, \"\\n\")\n",
    "\n",
    "sum_group = df.groupby('Category')['Value'].sum()\n",
    "print(\"Sum of 'Value' by 'Category':\")\n",
    "print(sum_group, \"\\n\")\n",
    "\n",
    "count_group = df.groupby('Category')['Value'].count()\n",
    "print(\"Number of entries in each 'Category':\")\n",
    "print(count_group)"
   ]
  },
  {
   "cell_type": "markdown",
   "metadata": {},
   "source": [
    "# Exercice 8 "
   ]
  },
  {
   "cell_type": "code",
   "execution_count": 14,
   "metadata": {},
   "outputs": [
    {
     "name": "stdout",
     "output_type": "stream",
     "text": [
      "Original DataFrame:\n",
      "  Category Type  Value\n",
      "0        A    X      1\n",
      "1        A    Y      2\n",
      "2        A    X      3\n",
      "3        B    Y      4\n",
      "4        B    X      5\n",
      "5        B    Y      6 \n",
      "\n",
      "Pivot table showing the mean of 'Value':\n",
      "Type      X  Y\n",
      "Category      \n",
      "A         2  2\n",
      "B         5  5 \n",
      "\n",
      "Pivot table showing the sum of 'Value':\n",
      "Type      X   Y\n",
      "Category       \n",
      "A         4   2\n",
      "B         5  10 \n",
      "\n",
      "Pivot table with margins (total mean):\n",
      "Type      X  Y  All\n",
      "Category           \n",
      "A         2  2  2.0\n",
      "B         5  5  5.0\n",
      "All       3  4  3.5\n"
     ]
    }
   ],
   "source": [
    "# Create the DataFrame\n",
    "df = pd.DataFrame({\n",
    "    'Category': ['A', 'A', 'A', 'B', 'B', 'B'],\n",
    "    'Type': ['X', 'Y', 'X', 'Y', 'X', 'Y'],\n",
    "    'Value': [1, 2, 3, 4, 5, 6]\n",
    "})\n",
    "\n",
    "print(\"Original DataFrame:\")\n",
    "print(df, \"\\n\")\n",
    "\n",
    "pivot_mean = df.pivot_table(values='Value', index='Category', columns='Type', aggfunc='mean')\n",
    "print(\"Pivot table showing the mean of 'Value':\")\n",
    "print(pivot_mean, \"\\n\")\n",
    "\n",
    "pivot_sum = df.pivot_table(values='Value', index='Category', columns='Type', aggfunc='sum')\n",
    "print(\"Pivot table showing the sum of 'Value':\")\n",
    "print(pivot_sum, \"\\n\")\n",
    "\n",
    "pivot_mean_margins = df.pivot_table(values='Value', index='Category', columns='Type', aggfunc='mean', margins=True)\n",
    "print(\"Pivot table with margins (total mean):\")\n",
    "print(pivot_mean_margins)"
   ]
  },
  {
   "cell_type": "markdown",
   "metadata": {},
   "source": [
    "# Exercice 9 "
   ]
  },
  {
   "cell_type": "code",
   "execution_count": 15,
   "metadata": {},
   "outputs": [
    {
     "name": "stdout",
     "output_type": "stream",
     "text": [
      "Original DataFrame:\n",
      "        Date     Value\n",
      "0 2023-01-01 -1.885344\n",
      "1 2023-01-02  2.358314\n",
      "2 2023-01-03 -1.888154\n",
      "3 2023-01-04 -1.161571\n",
      "4 2023-01-05  0.157560\n",
      "5 2023-01-06  0.297250 \n",
      "\n",
      "DataFrame with 'Date' as the index:\n",
      "               Value\n",
      "Date                \n",
      "2023-01-01 -1.885344\n",
      "2023-01-02  2.358314\n",
      "2023-01-03 -1.888154\n",
      "2023-01-04 -1.161571\n",
      "2023-01-05  0.157560\n",
      "2023-01-06  0.297250 \n",
      "\n",
      "Resampled DataFrame (sum for each 2-day period):\n",
      "               Value\n",
      "Date                \n",
      "2023-01-01  0.472969\n",
      "2023-01-03 -3.049725\n",
      "2023-01-05  0.454810\n"
     ]
    }
   ],
   "source": [
    "# Time Series Data\n",
    "date_range = pd.date_range(start='2023-01-01', periods=6, freq='D')  # 6 periods, daily frequency\n",
    "data = np.random.randn(6)  # Random values for 6 periods\n",
    "\n",
    "\n",
    "df = pd.DataFrame({'Date': date_range, 'Value': data})\n",
    "print(\"Original DataFrame:\")\n",
    "print(df, \"\\n\")\n",
    "\n",
    "df.set_index('Date', inplace=True)\n",
    "print(\"DataFrame with 'Date' as the index:\")\n",
    "print(df, \"\\n\")\n",
    "\n",
    "df_resampled = df.resample('2D').sum()\n",
    "print(\"Resampled DataFrame (sum for each 2-day period):\")\n",
    "print(df_resampled)"
   ]
  },
  {
   "cell_type": "markdown",
   "metadata": {},
   "source": [
    "# Exercice 10"
   ]
  },
  {
   "cell_type": "code",
   "execution_count": 16,
   "metadata": {},
   "outputs": [
    {
     "name": "stdout",
     "output_type": "stream",
     "text": [
      "Original DataFrame:\n",
      "     A    B    C\n",
      "0  1.0  NaN  3.0\n",
      "1  2.0  5.0  NaN\n",
      "2  NaN  8.0  9.0 \n",
      "\n",
      "DataFrame after interpolating missing values:\n",
      "     A    B    C\n",
      "0  1.0  NaN  3.0\n",
      "1  2.0  5.0  6.0\n",
      "2  2.0  8.0  9.0 \n",
      "\n",
      "DataFrame after dropping rows with NaN values:\n",
      "Empty DataFrame\n",
      "Columns: [A, B, C]\n",
      "Index: []\n"
     ]
    }
   ],
   "source": [
    "# Handling Missing Data\n",
    "data = {\n",
    "    'A': [1.0, 2.0, np.nan],\n",
    "    'B': [np.nan, 5.0, 8.0],\n",
    "    'C': [3.0, np.nan, 9.0]\n",
    "}\n",
    "df = pd.DataFrame(data)\n",
    "print(\"Original DataFrame:\")\n",
    "print(df, \"\\n\")\n",
    "\n",
    "\n",
    "df_interpolated = df.interpolate()\n",
    "print(\"DataFrame after interpolating missing values:\")\n",
    "print(df_interpolated, \"\\n\")\n",
    "\n",
    "\n",
    "df_dropped = df.dropna()\n",
    "print(\"DataFrame after dropping rows with NaN values:\")\n",
    "print(df_dropped)"
   ]
  },
  {
   "cell_type": "markdown",
   "metadata": {},
   "source": [
    "# Exercice 11"
   ]
  },
  {
   "cell_type": "code",
   "execution_count": 17,
   "metadata": {},
   "outputs": [
    {
     "name": "stdout",
     "output_type": "stream",
     "text": [
      "Original DataFrame:\n",
      "   A  B  C\n",
      "0  1  2  3\n",
      "1  4  5  6\n",
      "2  7  8  9 \n",
      "\n",
      "Cumulative sum of the DataFrame:\n",
      "    A   B   C\n",
      "0   1   2   3\n",
      "1   5   7   9\n",
      "2  12  15  18 \n",
      "\n",
      "Cumulative product of the DataFrame:\n",
      "    A   B    C\n",
      "0   1   2    3\n",
      "1   4  10   18\n",
      "2  28  80  162 \n",
      "\n",
      "DataFrame after subtracting 1 from all elements:\n",
      "   A  B  C\n",
      "0  0  1  2\n",
      "1  3  4  5\n",
      "2  6  7  8\n"
     ]
    }
   ],
   "source": [
    "#DataFrame Operations\n",
    "data = {\n",
    "    'A': [1, 4, 7],\n",
    "    'B': [2, 5, 8],\n",
    "    'C': [3, 6, 9]\n",
    "}\n",
    "df = pd.DataFrame(data)\n",
    "print(\"Original DataFrame:\")\n",
    "print(df, \"\\n\")\n",
    "\n",
    "df_cumsum = df.cumsum()\n",
    "print(\"Cumulative sum of the DataFrame:\")\n",
    "print(df_cumsum, \"\\n\")\n",
    "\n",
    "df_cumprod = df.cumprod()\n",
    "print(\"Cumulative product of the DataFrame:\")\n",
    "print(df_cumprod, \"\\n\")\n",
    "\n",
    "df_subtracted = df.applymap(lambda x: x - 1)\n",
    "print(\"DataFrame after subtracting 1 from all elements:\")\n",
    "print(df_subtracted)"
   ]
  },
  {
   "cell_type": "code",
   "execution_count": null,
   "metadata": {},
   "outputs": [],
   "source": []
  }
 ],
 "metadata": {
  "kernelspec": {
   "display_name": "Python 3",
   "language": "python",
   "name": "python3"
  },
  "language_info": {
   "codemirror_mode": {
    "name": "ipython",
    "version": 3
   },
   "file_extension": ".py",
   "mimetype": "text/x-python",
   "name": "python",
   "nbconvert_exporter": "python",
   "pygments_lexer": "ipython3",
   "version": "3.7.6"
  }
 },
 "nbformat": 4,
 "nbformat_minor": 4
}
